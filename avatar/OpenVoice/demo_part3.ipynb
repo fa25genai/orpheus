{
 "cells": [
  {
   "cell_type": "markdown",
   "metadata": {},
   "source": [
    "## Multi-Accent and Multi-Lingual Voice Clone Demo with MeloTTS"
   ]
  },
  {
   "cell_type": "code",
   "execution_count": 1,
   "metadata": {},
   "outputs": [
    {
     "name": "stderr",
     "output_type": "stream",
     "text": [
      "c:\\Anaconda\\envs\\openvoice\\lib\\site-packages\\tqdm\\auto.py:21: TqdmWarning: IProgress not found. Please update jupyter and ipywidgets. See https://ipywidgets.readthedocs.io/en/stable/user_install.html\n",
      "  from .autonotebook import tqdm as notebook_tqdm\n"
     ]
    },
    {
     "name": "stdout",
     "output_type": "stream",
     "text": [
      "Importing the dtw module. When using in academic works please cite:\n",
      "  T. Giorgino. Computing and Visualizing Dynamic Time Warping Alignments in R: The dtw Package.\n",
      "  J. Stat. Soft., doi:10.18637/jss.v031.i07.\n",
      "\n"
     ]
    }
   ],
   "source": [
    "import os\n",
    "import os\n",
    "import torch\n",
    "from openvoice import se_extractor\n",
    "from openvoice.api import ToneColorConverter"
   ]
  },
  {
   "cell_type": "markdown",
   "metadata": {},
   "source": [
    "### Initialization\n",
    "\n",
    "In this example, we will use the checkpoints from OpenVoiceV2. OpenVoiceV2 is trained with more aggressive augmentations and thus demonstrate better robustness in some cases."
   ]
  },
  {
   "cell_type": "code",
   "execution_count": 2,
   "metadata": {},
   "outputs": [
    {
     "name": "stderr",
     "output_type": "stream",
     "text": [
      "c:\\Anaconda\\envs\\openvoice\\lib\\site-packages\\torch\\nn\\utils\\weight_norm.py:144: FutureWarning: `torch.nn.utils.weight_norm` is deprecated in favor of `torch.nn.utils.parametrizations.weight_norm`.\n",
      "  WeightNorm.apply(module, name, dim)\n"
     ]
    },
    {
     "name": "stdout",
     "output_type": "stream",
     "text": [
      "Loaded checkpoint '.\\checkpoints_v2\\converter/checkpoint.pth'\n",
      "missing/unexpected keys: [] []\n"
     ]
    }
   ],
   "source": [
    "ckpt_converter = r\".\\checkpoints_v2\\converter\"\n",
    "device = \"cuda:0\" if torch.cuda.is_available() else \"cpu\"\n",
    "output_dir = r'.\\checkpoints_v2\\outputs_v2'\n",
    "\n",
    "tone_color_converter = ToneColorConverter(f'{ckpt_converter}/config.json', device=device)\n",
    "tone_color_converter.load_ckpt(f'{ckpt_converter}/checkpoint.pth')\n",
    "\n",
    "os.makedirs(output_dir, exist_ok=True)"
   ]
  },
  {
   "cell_type": "markdown",
   "metadata": {},
   "source": [
    "### Obtain Tone Color Embedding\n",
    "We only extract the tone color embedding for the target speaker. The source tone color embeddings can be directly loaded from `checkpoints_v2/ses` folder."
   ]
  },
  {
   "cell_type": "code",
   "execution_count": null,
   "metadata": {},
   "outputs": [
    {
     "name": "stdout",
     "output_type": "stream",
     "text": [
      "OpenVoice version: v2\n",
      "[(1.294, 12.242), (12.558, 37.138), (37.23, 48.818), (49.07, 60.8391875)]\n",
      "after vad: dur = 58.884965986394555\n"
     ]
    },
    {
     "name": "stderr",
     "output_type": "stream",
     "text": [
      "c:\\Anaconda\\envs\\openvoice\\lib\\site-packages\\torch\\functional.py:730: UserWarning: stft with return_complex=False is deprecated. In a future pytorch release, stft will return complex tensors for all inputs, and return_complex=False will raise an error.\n",
      "Note: you can still call torch.view_as_real on the complex output to recover the old return format. (Triggered internally at C:\\actions-runner\\_work\\pytorch\\pytorch\\pytorch\\aten\\src\\ATen\\native\\SpectralOps.cpp:880.)\n",
      "  return _VF.stft(  # type: ignore[attr-defined]\n"
     ]
    }
   ],
   "source": [
    "# Here specify the reference speaker file you want to use\n",
    "voice_file = \"kursche_voice.mp3\"\n",
    "reference_speaker = f'./{voice_file}' # This is the voice you want to clone\n",
    "target_se, audio_name = se_extractor.get_se(reference_speaker, tone_color_converter, vad=True)"
   ]
  },
  {
   "cell_type": "markdown",
   "metadata": {},
   "source": [
    "#### Use MeloTTS as Base Speakers\n",
    "\n",
    "MeloTTS is a high-quality multi-lingual text-to-speech library by @MyShell.ai, supporting languages including English (American, British, Indian, Australian, Default), Spanish, French, Chinese, Japanese, Korean. In the following example, we will use the models in MeloTTS as the base speakers. "
   ]
  },
  {
   "cell_type": "code",
   "execution_count": null,
   "metadata": {},
   "outputs": [
    {
     "name": "stdout",
     "output_type": "stream",
     "text": [
      "Checking NLTK data...\n",
      "✓ Punkt tokenizer found\n",
      "✓ Averaged perceptron tagger found\n",
      "Processing EN_NEWEST...\n"
     ]
    },
    {
     "name": "stderr",
     "output_type": "stream",
     "text": [
      "c:\\Anaconda\\envs\\openvoice\\lib\\site-packages\\torch\\nn\\utils\\weight_norm.py:144: FutureWarning: `torch.nn.utils.weight_norm` is deprecated in favor of `torch.nn.utils.parametrizations.weight_norm`.\n",
      "  WeightNorm.apply(module, name, dim)\n"
     ]
    },
    {
     "name": "stdout",
     "output_type": "stream",
     "text": [
      "Generating audio for en-newest...\n",
      " > Text split to sentences.\n",
      "Hello students from FerienAkademie. How are you doing? It's beautiful weather today, I hope you are ready for a long hike. To tell more about myself, I love reading books and listening to music.\n",
      " > ===========================\n"
     ]
    },
    {
     "name": "stderr",
     "output_type": "stream",
     "text": [
      "  0%|          | 0/1 [00:00<?, ?it/s]Some weights of the model checkpoint at bert-base-uncased were not used when initializing BertForMaskedLM: ['cls.seq_relationship.bias', 'cls.seq_relationship.weight']\n",
      "- This IS expected if you are initializing BertForMaskedLM from the checkpoint of a model trained on another task or with another architecture (e.g. initializing a BertForSequenceClassification model from a BertForPreTraining model).\n",
      "- This IS NOT expected if you are initializing BertForMaskedLM from the checkpoint of a model that you expect to be exactly identical (initializing a BertForSequenceClassification model from a BertForSequenceClassification model).\n",
      "100%|██████████| 1/1 [00:14<00:00, 14.64s/it]\n"
     ]
    },
    {
     "name": "stdout",
     "output_type": "stream",
     "text": [
      "✓ Saved: .\\checkpoints_v2\\outputs_v2/output_v2_EN_NEWEST_en-newest.wav\n"
     ]
    }
   ],
   "source": [
    "import nltk\n",
    "from melo.api import TTS\n",
    "\n",
    "\n",
    "# Download required NLTK data first\n",
    "print(\"Checking NLTK data...\")\n",
    "try:\n",
    "    nltk.data.find('tokenizers/punkt')\n",
    "    print(\"✓ Punkt tokenizer found\")\n",
    "except LookupError:\n",
    "    print(\"Downloading Punkt tokenizer...\")\n",
    "    nltk.download('punkt', quiet=True)\n",
    "\n",
    "try:\n",
    "    nltk.data.find('taggers/averaged_perceptron_tagger')\n",
    "    print(\"✓ Averaged perceptron tagger found\")\n",
    "except LookupError:\n",
    "    print(\"Downloading averaged perceptron tagger...\")\n",
    "    nltk.download('averaged_perceptron_tagger', quiet=True)\n",
    "\n",
    "# The texts to be synthesized, needs to be in the language of the TTS model\n",
    "# You can add more languages/models if you want\n",
    "texts = {\n",
    "    'EN_NEWEST': \"Hello students from FerienAkademie. How are you doing? It's beautiful weather today, I hope you are ready for a long hike. To tell more about myself, I love reading books and listening to music.\"\n",
    "}\n",
    "\n",
    "src_path = f'{output_dir}/tmp.wav'\n",
    "# Experiment with these parameters:\n",
    "speed = 1.0  # Slower speech (0.8-1.2)\n",
    "noise_scale = 0.667  # More variation (0.5-0.8)\n",
    "noise_scale_w = 0.8  # More expressiveness (0.6-1.0)\n",
    "sdp_ratio = 0.5  # Balance between styles (0.0-1.0)\n",
    "\n",
    "# Check if required variables exist\n",
    "if 'target_se' not in locals() and 'target_se' not in globals():\n",
    "    print(\"ERROR: target_se is not defined. You need to run the tone color extraction first!\")\n",
    "elif 'tone_color_converter' not in locals() and 'tone_color_converter' not in globals():\n",
    "    print(\"ERROR: tone_color_converter is not defined. You need to initialize it first!\")\n",
    "else:\n",
    "    for language, text in texts.items():\n",
    "        print(f\"Processing {language}...\")\n",
    "        model = TTS(language=language, device=device)\n",
    "        speaker_ids = model.hps.data.spk2id\n",
    "        \n",
    "        for speaker_key in speaker_ids.keys():\n",
    "            speaker_id = speaker_ids[speaker_key]\n",
    "            speaker_key = speaker_key.lower().replace('_', '-')\n",
    "            \n",
    "            ses_file_path = f'./checkpoints_v2/base_speakers/ses/{speaker_key}.pth'\n",
    "            \n",
    "            if not os.path.exists(ses_file_path):\n",
    "                print(f\"File not found: {ses_file_path}\")\n",
    "                continue\n",
    "                \n",
    "            try:\n",
    "                source_se = torch.load(ses_file_path, map_location=device)\n",
    "                \n",
    "                if torch.backends.mps.is_available() and device == 'cpu':\n",
    "                    torch.backends.mps.is_available = lambda: False\n",
    "                    \n",
    "                print(f\"Generating audio for {speaker_key}...\")\n",
    "                model.tts_to_file(text, speaker_id, src_path, speed=speed)\n",
    "                save_path = f'{output_dir}/output_v2_{language}_{speaker_key}.wav'\n",
    "\n",
    "                encode_message = \"@MyShell\"\n",
    "                tone_color_converter.convert(\n",
    "                    audio_src_path=src_path, \n",
    "                    src_se=source_se, \n",
    "                    tgt_se=target_se, \n",
    "                    output_path=save_path,\n",
    "                    message=encode_message)\n",
    "                    \n",
    "                print(f\"✓ Saved: {save_path}\")\n",
    "                    \n",
    "            except Exception as e:\n",
    "                print(f\"Error processing {speaker_key}: {e}\")"
   ]
  }
 ],
 "metadata": {
  "kernelspec": {
   "display_name": "openvoice",
   "language": "python",
   "name": "python3"
  },
  "language_info": {
   "codemirror_mode": {
    "name": "ipython",
    "version": 3
   },
   "file_extension": ".py",
   "mimetype": "text/x-python",
   "name": "python",
   "nbconvert_exporter": "python",
   "pygments_lexer": "ipython3",
   "version": "3.9.23"
  }
 },
 "nbformat": 4,
 "nbformat_minor": 2
}
